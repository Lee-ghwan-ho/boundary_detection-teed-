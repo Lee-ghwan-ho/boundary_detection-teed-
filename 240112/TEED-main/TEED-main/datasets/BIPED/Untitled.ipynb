{
 "cells": [
  {
   "cell_type": "code",
   "execution_count": 10,
   "id": "8d29ca5a",
   "metadata": {},
   "outputs": [],
   "source": [
    "import os\n",
    "import json\n",
    "\n",
    "train_images_dir = r'C:\\Users\\default.DESKTOP-D5VGE5V\\Desktop\\TEED-main\\datasets\\BIPED\\gt'\n",
    "train_labels_dir = r'C:\\Users\\default.DESKTOP-D5VGE5V\\Desktop\\TEED-main\\datasets\\BIPED\\img'\n",
    "\n",
    "# 디렉터리 내의 파일 목록을 가져옵니다.\n",
    "train_images_files = os.listdir(train_images_dir)\n",
    "train_labels_files = os.listdir(train_labels_dir)\n",
    "\n",
    "# 파일 확장자를 제거한 파일 이름만 저장하는 리스트를 생성합니다.\n",
    "train_images_files_no_ext = [os.path.splitext(file)[0] for file in train_images_files]\n",
    "train_labels_files_no_ext = [os.path.splitext(file)[0] for file in train_labels_files]\n",
    "\n",
    "output_list = []\n",
    "\n",
    "for file in train_images_files_no_ext:\n",
    "    if file in train_labels_files_no_ext:\n",
    "        img_path = os.path.join(\"img\", file + '.jpg')\n",
    "        label_path = os.path.join(\"gt\", file + '.png')\n",
    "        output_list.append([img_path, label_path])\n",
    "\n",
    "# 결과를 JSON 형식으로 출력합니다.\n",
    "with open('train_pair_print.json', 'w') as outfile:\n",
    "    json.dump(output_list, outfile, indent=2)\n"
   ]
  },
  {
   "cell_type": "code",
   "execution_count": null,
   "id": "29d4ed3d",
   "metadata": {},
   "outputs": [],
   "source": []
  }
 ],
 "metadata": {
  "kernelspec": {
   "display_name": "Python 3 (ipykernel)",
   "language": "python",
   "name": "python3"
  },
  "language_info": {
   "codemirror_mode": {
    "name": "ipython",
    "version": 3
   },
   "file_extension": ".py",
   "mimetype": "text/x-python",
   "name": "python",
   "nbconvert_exporter": "python",
   "pygments_lexer": "ipython3",
   "version": "3.9.12"
  }
 },
 "nbformat": 4,
 "nbformat_minor": 5
}
