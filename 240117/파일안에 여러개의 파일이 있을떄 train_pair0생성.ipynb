{
 "cells": [
  {
   "cell_type": "code",
   "execution_count": 1,
   "id": "29d4ed3d",
   "metadata": {},
   "outputs": [
    {
     "name": "stdout",
     "output_type": "stream",
     "text": [
      "train_pair0.lst 파일이 생성되었습니다.\n"
     ]
    }
   ],
   "source": [
    "import os\n",
    "import json\n",
    "\n",
    "# 데이터 디렉토리와 파일 이름 설정\n",
    "data_dir = \"C:\\\\Users\\\\USER\\\\Desktop\\\\실행 파일\\\\TEED-main\\\\TEED-main\\\\datasets\\\\BIPED\\\\\"\n",
    "output_file = os.path.join(data_dir, \"train_pair0.lst\")\n",
    "\n",
    "# 'real'과 'real_flip' 디렉토리에서 이미지 파일 목록 생성\n",
    "data_pairs = []\n",
    "# , 'real_flip','real_rot_19'\n",
    "for sub_dir in ['real']:\n",
    "    img_dir = os.path.join(data_dir, \"img\", sub_dir)\n",
    "    gt_dir = os.path.join(data_dir, \"gt\", sub_dir)\n",
    "    \n",
    "    # 이미지와 대응하는 GT 파일 목록 생성\n",
    "    image_list = os.listdir(img_dir)\n",
    "    gt_list = os.listdir(gt_dir)\n",
    "    image_list.sort()\n",
    "    gt_list.sort()\n",
    "\n",
    "    # 데이터 쌍을 리스트에 저장\n",
    "    for img_file, gt_file in zip(image_list, gt_list):\n",
    "        img_path = os.path.join(\"img\", sub_dir, img_file)\n",
    "        gt_path = os.path.join(\"gt\", sub_dir, gt_file)\n",
    "        data_pairs.append([img_path, gt_path])\n",
    "\n",
    "# 데이터 쌍을 \"train_pair0.lst\" 파일에 JSON 형식으로 저장\n",
    "with open(output_file, \"w\") as f:\n",
    "    json.dump(data_pairs, f)\n",
    "\n",
    "print(\"train_pair0.lst 파일이 생성되었습니다.\")\n"
   ]
  },
  {
   "cell_type": "code",
   "execution_count": 2,
   "id": "86b84403",
   "metadata": {},
   "outputs": [
    {
     "name": "stdout",
     "output_type": "stream",
     "text": [
      "train_pair.lst 파일이 생성되었습니다.\n"
     ]
    }
   ],
   "source": [
    "import os\n",
    "import json\n",
    "\n",
    "# 데이터 디렉토리 설정\n",
    "data_dir = \"C:\\\\Users\\\\USER\\\\Desktop\\\\실행 파일\\\\TEED-main\\\\TEED-main\\\\datasets\\\\BIPED\\\\\"\n",
    "output_file = os.path.join(data_dir, \"train_pair.lst\")\n",
    "\n",
    "# 'img'와 'gt' 디렉토리에서 이미지 파일 목록 생성\n",
    "data_pairs = []\n",
    "\n",
    "# 이미지와 대응하는 GT 파일 목록 생성\n",
    "img_dir = os.path.join(data_dir, \"img\")\n",
    "gt_dir = os.path.join(data_dir, \"gt\")\n",
    "\n",
    "image_list = [f for f in os.listdir(img_dir) if f.endswith('.jpg')]\n",
    "gt_list = [f for f in os.listdir(gt_dir) if f.endswith('.png')]\n",
    "\n",
    "# 데이터 쌍을 리스트에 저장\n",
    "for img_file in image_list:\n",
    "    gt_file = img_file.replace('.jpg', '.png')  # JPG 파일 이름을 PNG 파일 이름으로 변환\n",
    "    if gt_file in gt_list:\n",
    "        img_path = os.path.join(\"img\", img_file)\n",
    "        gt_path = os.path.join(\"gt\", gt_file)\n",
    "        data_pairs.append([img_path, gt_path])\n",
    "\n",
    "# 데이터 쌍을 \"train_pair.lst\" 파일에 JSON 형식으로 저장\n",
    "with open(output_file, \"w\") as f:\n",
    "    json.dump(data_pairs, f)\n",
    "\n",
    "print(\"train_pair.lst 파일이 생성되었습니다.\")\n"
   ]
  }
 ],
 "metadata": {
  "kernelspec": {
   "display_name": "Python 3 (ipykernel)",
   "language": "python",
   "name": "python3"
  },
  "language_info": {
   "codemirror_mode": {
    "name": "ipython",
    "version": 3
   },
   "file_extension": ".py",
   "mimetype": "text/x-python",
   "name": "python",
   "nbconvert_exporter": "python",
   "pygments_lexer": "ipython3",
   "version": "3.9.13"
  }
 },
 "nbformat": 4,
 "nbformat_minor": 5
}
